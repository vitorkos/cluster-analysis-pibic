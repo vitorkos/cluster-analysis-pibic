{
 "cells": [
  {
   "cell_type": "markdown",
   "metadata": {},
   "source": [
    "### PIBIC - AVALIAÇÕES DAS PROPRIEDADES FÍSICAS DA MASSA E DE PÃES ELABORADOS COM ADIÇÃO DE FARINHAS DE BIOMASSA DE BANANA E DE SOJA\n",
    "\n",
    "#### O código abaixo trata-se do codigo realizado na linguagem de programação python para realização da analise de clusters da imagem das fatias dos pães elaborados\n",
    "\n",
    "#### Desenvolvido pelo bolsista de PIBIC Vitor Kauã Oliveira de Souza, do segundo ano de Ciência da Computação da Universidade Estadual do Norte do Paraná, orientado pelo professor Doutor Luís Guilherme Sachs.\n",
    "\n",
    "---"
   ]
  },
  {
   "cell_type": "markdown",
   "metadata": {},
   "source": [
    "#### Inclusão das bibliotecas necessárias\n",
    "\n",
    "##### OBS: O CAMINHO PATH E A VARIAVEL PATH_TO_MODULE ESTÁ EXCLUSIVAMENTE NA MINHA MÁQUINA. NA SUA, VOCE DEVERÁ TER SEU AMBIENTE VIRTUAL PYTHON CONFIGURADO E COM AS BIBLIOTECAS INSTALADAS E NA VARIAVEL, PASSAR O CAMINHO QUE ESTÁ NA SUA MÁQUINA"
   ]
  },
  {
   "cell_type": "code",
   "execution_count": 1,
   "metadata": {},
   "outputs": [],
   "source": [
    "import os\n",
    "os.sys.path\n",
    "import sys\n",
    "path_to_module = \"../venv/lib/python3.11/site-packages/\"\n",
    "sys.path.append(path_to_module)"
   ]
  },
  {
   "cell_type": "markdown",
   "metadata": {},
   "source": [
    "#### Incluindo as bibliotecas baixadas no ambiente virtual"
   ]
  },
  {
   "cell_type": "code",
   "execution_count": 2,
   "metadata": {},
   "outputs": [],
   "source": [
    "import cv2\n",
    "import matplotlib.pyplot as plt\n",
    "import numpy as np"
   ]
  },
  {
   "cell_type": "markdown",
   "metadata": {},
   "source": [
    "#### Código principal"
   ]
  },
  {
   "cell_type": "code",
   "execution_count": 5,
   "metadata": {},
   "outputs": [],
   "source": [
    "# Read and prepare image\n",
    "img = cv2.imread('./../models/aline_models/exp1/1_1.jpg')\n",
    "gray = cv2.cvtColor(img, cv2.COLOR_BGR2GRAY)\n",
    "blurred = cv2.GaussianBlur(gray, (7, 7), 0)\n",
    "\n",
    "# Apply adaptive thresholding\n",
    "mask = cv2.adaptiveThreshold(blurred,\n",
    "                              255,\n",
    "                              cv2.ADAPTIVE_THRESH_MEAN_C,\n",
    "                              cv2.THRESH_BINARY,\n",
    "                              31,\n",
    "                              10)\n",
    "\n",
    "# Plot results\n",
    "\n",
    "#fig, ax = plt.subplots(1, 2, figsize=(12, 5))\n",
    "#ax[0].imshow(cv2.cvtColor(img, cv2.COLOR_BGR2RGB))\n",
    "#ax[1].imshow(cv2.cvtColor(mask, cv2.COLOR_BGR2RGB))\n",
    "#plt.tight_layout()"
   ]
  },
  {
   "cell_type": "code",
   "execution_count": 4,
   "metadata": {
    "scrolled": true
   },
   "outputs": [],
   "source": [
    "#ax = plt.subplots(1, figsize=(12,5))\n",
    "#ax[1].imshow(cv2.cvtColor(mask, cv2.COLOR_BGR2RGB))\n",
    "#ax[1].axis('off')\n",
    "#plt.tight_layout()\n",
    "\n",
    "# Save the plotted image\n",
    "#plt.savefig('./../models/aline_models/exp1/1_1_bin.jpg', bbox_inches='tight', pad_inches=0)"
   ]
  },
  {
   "cell_type": "markdown",
   "metadata": {},
   "source": [
    "##### Counting black and white pixels"
   ]
  },
  {
   "cell_type": "code",
   "execution_count": 4,
   "metadata": {},
   "outputs": [
    {
     "name": "stdout",
     "output_type": "stream",
     "text": [
      "Number of white pixels: 388242\n",
      "Number of black pixels: 57624\n"
     ]
    }
   ],
   "source": [
    "# reading the image data from desired directory \n",
    "img = cv2.imread(\"./../models/aline_models/exp1/1_1_bin.jpg\") \n",
    "  \n",
    "# counting the number of pixels \n",
    "number_of_white_pix = np.sum(img == 255) \n",
    "number_of_black_pix = np.sum(img == 0) \n",
    "  \n",
    "print('Number of white pixels:', number_of_white_pix) \n",
    "print('Number of black pixels:', number_of_black_pix)"
   ]
  },
  {
   "cell_type": "markdown",
   "metadata": {},
   "source": [
    "#### Contornando os clusters"
   ]
  },
  {
   "cell_type": "code",
   "execution_count": 7,
   "metadata": {},
   "outputs": [
    {
     "name": "stdout",
     "output_type": "stream",
     "text": [
      "Number of clusters:  1214\n"
     ]
    }
   ],
   "source": [
    "img = cv2.imread('./../models/aline_models/exp1/1_1_bin.jpg')\n",
    "gray = cv2.cvtColor(img, cv2.COLOR_BGR2GRAY)\n",
    "ret,thresh = cv2.threshold(gray,127,255,1)\n",
    "contours,h = cv2.findContours(thresh,1,2)\n",
    "counter = 0\n",
    "for cnt in contours:\n",
    "    cv2.drawContours(img,[cnt],0,(0,0,255),1)\n",
    "    counter = counter + 1\n",
    "\n",
    "\n",
    "    # Calculate the area (number of pixels) for each contour\n",
    "    #area = cv2.contourArea(cnt)\n",
    "    #print(f'Area of hole {counter}: {area} pixels')\n",
    "\n",
    "print('Number of clusters: ', counter)\n",
    "\n",
    "#plt.imshow(cv2.cvtColor(img, cv2.COLOR_BGR2RGB))\n",
    "#plt.title('Modified Image')\n",
    "#plt.show()\n",
    "#plt.savefig('./../models/aline_models/exp1/1_1_bin_contours.jpg', bbox_inches='tight', pad_inches=0)"
   ]
  }
 ],
 "metadata": {
  "kernelspec": {
   "display_name": "Python 3 (ipykernel)",
   "language": "python",
   "name": "python3"
  },
  "language_info": {
   "codemirror_mode": {
    "name": "ipython",
    "version": 3
   },
   "file_extension": ".py",
   "mimetype": "text/x-python",
   "name": "python",
   "nbconvert_exporter": "python",
   "pygments_lexer": "ipython3",
   "version": "3.11.6"
  }
 },
 "nbformat": 4,
 "nbformat_minor": 4
}

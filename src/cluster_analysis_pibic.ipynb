{
 "cells": [
  {
   "cell_type": "markdown",
   "metadata": {},
   "source": [
    "### PIBIC - EVALUATIONS OF THE PHYSICAL PROPERTIES OF DOUGH AND BREAD MADE WITH THE ADDITION OF BANANA AND SOY BIOMASS FLOURS\n",
    "\n",
    "#### The code below is the code created in the Python programming language to perform cluster analysis of the image of the slices of bread prepared\n",
    "\n",
    "#### Developed by PIBIC scholarship holder Vitor Kauã Oliveira de Souza, second year of Computer Science at the State University of Northern Paraná, supervised by professor PhD Luís Guilherme Sachs.\n",
    "\n",
    "---"
   ]
  },
  {
   "cell_type": "markdown",
   "metadata": {},
   "source": [
    "#### Inclusion of necessary libraries\n",
    "\n",
    "##### NOTE: THE PATH PATH AND THE PATH_TO_MODULE VARIABLE ARE EXCLUSIVELY ON MY MACHINE. ON YOURS, YOU MUST HAVE YOUR PYTHON VIRTUAL ENVIRONMENT CONFIGURED AND WITH THE LIBRARIES INSTALLED AND IN THE VARIABLE, PASS THE PATH THAT IS ON YOUR MACHINE"
   ]
  },
  {
   "cell_type": "code",
   "execution_count": 1,
   "metadata": {},
   "outputs": [],
   "source": [
    "import os\n",
    "os.sys.path\n",
    "import sys\n",
    "path_to_module = \"../venv/lib/python3.11/site-packages/\"\n",
    "sys.path.append(path_to_module)"
   ]
  },
  {
   "cell_type": "markdown",
   "metadata": {},
   "source": [
    "#### Inclusion of necessary libraries\n",
    "\n",
    "#### Including downloaded libraries in the virtual environment"
   ]
  },
  {
   "cell_type": "code",
   "execution_count": 2,
   "metadata": {},
   "outputs": [],
   "source": [
    "import cv2\n",
    "import matplotlib.pyplot as plt\n",
    "import numpy as np"
   ]
  },
  {
   "cell_type": "markdown",
   "metadata": {},
   "source": [
    "#### Main code"
   ]
  },
  {
   "cell_type": "code",
   "execution_count": 5,
   "metadata": {},
   "outputs": [],
   "source": [
    "# Read and prepare image\n",
    "img = cv2.imread('./../models/aline_models/exp1/1_1.jpg')\n",
    "gray = cv2.cvtColor(img, cv2.COLOR_BGR2GRAY)\n",
    "blurred = cv2.GaussianBlur(gray, (7, 7), 0)\n",
    "\n",
    "# Apply adaptive thresholding\n",
    "mask = cv2.adaptiveThreshold(blurred,\n",
    "                              255,\n",
    "                              cv2.ADAPTIVE_THRESH_MEAN_C,\n",
    "                              cv2.THRESH_BINARY,\n",
    "                              31,\n",
    "                              10)\n",
    "\n",
    "# Plot results\n",
    "\n",
    "#fig, ax = plt.subplots(1, 2, figsize=(12, 5))\n",
    "#ax[0].imshow(cv2.cvtColor(img, cv2.COLOR_BGR2RGB))\n",
    "#ax[1].imshow(cv2.cvtColor(mask, cv2.COLOR_BGR2RGB))\n",
    "#plt.tight_layout()"
   ]
  },
  {
   "cell_type": "markdown",
   "metadata": {},
   "source": [
    "##### Binarized image plot to save it"
   ]
  },
  {
   "cell_type": "code",
   "execution_count": 4,
   "metadata": {
    "scrolled": true
   },
   "outputs": [],
   "source": [
    "#ax = plt.subplots(1, figsize=(12,5))\n",
    "#ax[1].imshow(cv2.cvtColor(mask, cv2.COLOR_BGR2RGB))\n",
    "#ax[1].axis('off')\n",
    "#plt.tight_layout()\n",
    "\n",
    "# Save the plotted image\n",
    "#plt.savefig('./../models/aline_models/exp1/1_1_bin.jpg', bbox_inches='tight', pad_inches=0)"
   ]
  },
  {
   "cell_type": "markdown",
   "metadata": {},
   "source": [
    "#### Counting black and white pixels"
   ]
  },
  {
   "cell_type": "code",
   "execution_count": null,
   "metadata": {},
   "outputs": [],
   "source": [
    "#Define variável para receber a imagem binarizada\n",
    "\n",
    "# reading the image data from desired directory \n",
    "img = cv2.imread(\"./../models/aline_models/exp1/1_1_bin.jpg\") "
   ]
  },
  {
   "cell_type": "code",
   "execution_count": 8,
   "metadata": {},
   "outputs": [
    {
     "name": "stdout",
     "output_type": "stream",
     "text": [
      "Number of white pixels: 415875\n",
      "Number of black pixels: 101418\n"
     ]
    }
   ],
   "source": [
    "# counting the number of pixels \n",
    "number_of_white_pix = np.sum(img == 255) \n",
    "number_of_black_pix = np.sum(img == 0) \n",
    "  \n",
    "print('Number of white pixels:', number_of_white_pix) \n",
    "print('Number of black pixels:', number_of_black_pix)"
   ]
  },
  {
   "cell_type": "markdown",
   "metadata": {},
   "source": [
    "#### Outlining the clusters and calculating the area of ​​each"
   ]
  },
  {
   "cell_type": "code",
   "execution_count": 7,
   "metadata": {},
   "outputs": [
    {
     "name": "stdout",
     "output_type": "stream",
     "text": [
      "Number of clusters:  1214\n"
     ]
    }
   ],
   "source": [
    "gray = cv2.cvtColor(img, cv2.COLOR_BGR2GRAY)\n",
    "ret,thresh = cv2.threshold(gray,127,255,1)\n",
    "contours,h = cv2.findContours(thresh,1,2)\n",
    "counter = 0\n",
    "for cnt in contours:\n",
    "    cv2.drawContours(img,[cnt],0,(0,0,255),1)\n",
    "    counter = counter + 1\n",
    "    \n",
    "    # Calculate the area (number of pixels) for each contour\n",
    "    #area = cv2.contourArea(cnt)\n",
    "    #print(f'Area of hole {counter}: {area} pixels')\n",
    "\n",
    "print('Number of clusters: ', counter)\n",
    "\n",
    "#plt.imshow(cv2.cvtColor(img, cv2.COLOR_BGR2RGB))\n",
    "#plt.title('Modified Image')\n",
    "#plt.show()\n",
    "#plt.savefig('./../models/aline_models/exp1/1_1_bin_contours.jpg', bbox_inches='tight', pad_inches=0)"
   ]
  }
 ],
 "metadata": {
  "kernelspec": {
   "display_name": "Python 3 (ipykernel)",
   "language": "python",
   "name": "python3"
  },
  "language_info": {
   "codemirror_mode": {
    "name": "ipython",
    "version": 3
   },
   "file_extension": ".py",
   "mimetype": "text/x-python",
   "name": "python",
   "nbconvert_exporter": "python",
   "pygments_lexer": "ipython3",
   "version": "3.11.6"
  }
 },
 "nbformat": 4,
 "nbformat_minor": 4
}

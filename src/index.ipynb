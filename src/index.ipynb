{
 "cells": [
  {
   "cell_type": "markdown",
   "metadata": {},
   "source": [
    "##### PIBIC - AVALIAÇÕES DAS PROPRIEDADES FÍSICAS DA MASSA E DE PÃES ELABORADOS COM ADIÇÃO DE FARINHAS DE BIOMASSA DE BANANA E DE SOJA\n",
    "\n",
    "###### O código abaixo trata-se do codigo realizado na linguagem de programação python para realização da analise de clusters da imagem das fatias dos pães elaborados\n",
    "\n",
    "###### Desenvolvido pelo bolsista de PIBIC Vitor Kauã Oliveira de Souza, do segundo ano de Ciência da Computação da Universidade Estadual do Norte do Paraná, orientado pelo professor Doutor Luís Guilherme Sachs.\n",
    "\n",
    "---"
   ]
  },
  {
   "cell_type": "markdown",
   "metadata": {},
   "source": [
    "##### Inclusão das bibliotecas necessárias"
   ]
  },
  {
   "cell_type": "code",
   "execution_count": 3,
   "metadata": {},
   "outputs": [],
   "source": [
    "import os, sys\n",
    "import cv2 as cv## opencv\n",
    "import skimage as ski ##scikit\n",
    "from PIL import Image"
   ]
  },
  {
   "cell_type": "markdown",
   "metadata": {},
   "source": [
    "##### Inserir a imagem a ser analisada"
   ]
  },
  {
   "cell_type": "code",
   "execution_count": 11,
   "metadata": {},
   "outputs": [
    {
     "name": "stdout",
     "output_type": "stream",
     "text": [
      "WEBP (236, 280) RGB\n"
     ]
    },
    {
     "name": "stderr",
     "output_type": "stream",
     "text": [
      "feh WARNING: /tmp/yad-zombies.log - Does not look like an image (magic bytes missing)\n",
      "feh WARNING: /tmp/.X0-lock - Does not look like an image (magic bytes missing)\n",
      "feh WARNING: /tmp/eos-update-notifier.log.GZGfqxaA - Does not look like an image (magic bytes missing)\n",
      "feh WARNING: /tmp/qipc_sharedmemory_fedbfedadfaaeeeefdd8a946567b373dcca2346809550449fffb21a74 - Does not look like an image (magic bytes missing)\n"
     ]
    }
   ],
   "source": [
    "im = Image.open(\"../tests/test-imgs/test1.webp\")\n",
    "print(im.format, im.size, im.mode)\n",
    "im.show()"
   ]
  }
 ],
 "metadata": {
  "kernelspec": {
   "display_name": "Python 3",
   "language": "python",
   "name": "python3"
  },
  "language_info": {
   "codemirror_mode": {
    "name": "ipython",
    "version": 3
   },
   "file_extension": ".py",
   "mimetype": "text/x-python",
   "name": "python",
   "nbconvert_exporter": "python",
   "pygments_lexer": "ipython3",
   "version": "3.11.6"
  }
 },
 "nbformat": 4,
 "nbformat_minor": 2
}
